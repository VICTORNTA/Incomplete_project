{
  "nbformat": 4,
  "nbformat_minor": 0,
  "metadata": {
    "accelerator": "GPU",
    "colab": {
      "name": "modelling.ipynb",
      "provenance": [],
      "collapsed_sections": [],
      "mount_file_id": "1W-fZGV5WJLUFbgxGVKJRX0LQG3LTtXSO",
      "authorship_tag": "ABX9TyOXG6NfOnlHFlo8oS+orMfe",
      "include_colab_link": true
    },
    "kernelspec": {
      "display_name": "Python 3",
      "name": "python3"
    },
    "language_info": {
      "name": "python"
    }
  },
  "cells": [
    {
      "cell_type": "markdown",
      "metadata": {
        "id": "view-in-github",
        "colab_type": "text"
      },
      "source": [
        "<a href=\"https://colab.research.google.com/github/VICTORNTA/Incomplete_project/blob/main/modelling.ipynb\" target=\"_parent\"><img src=\"https://colab.research.google.com/assets/colab-badge.svg\" alt=\"Open In Colab\"/></a>"
      ]
    },
    {
      "cell_type": "code",
      "metadata": {
        "id": "iRIf6TVoZTn1"
      },
      "source": [
        "import tensorflow as tf\n",
        "from tensorflow.keras.layers import Conv2D,MaxPooling2D,Flatten,Dropout,Dense\n",
        "from tensorflow.keras.models import  Sequential\n",
        "from tensorflow.keras.applications.vgg16 import VGG16"
      ],
      "execution_count": null,
      "outputs": []
    },
    {
      "cell_type": "code",
      "metadata": {
        "colab": {
          "base_uri": "https://localhost:8080/"
        },
        "id": "L3A0WhGhwxC0",
        "outputId": "c57dfa19-64a2-4ca6-c5a4-87d7178d9525"
      },
      "source": [
        "base_model = VGG16(input_shape=(150,150,3),include_top=False,weights='imagenet')"
      ],
      "execution_count": null,
      "outputs": [
        {
          "name": "stdout",
          "output_type": "stream",
          "text": [
            "Downloading data from https://storage.googleapis.com/tensorflow/keras-applications/vgg16/vgg16_weights_tf_dim_ordering_tf_kernels_notop.h5\n",
            "58892288/58889256 [==============================] - 1s 0us/step\n",
            "58900480/58889256 [==============================] - 1s 0us/step\n"
          ]
        }
      ]
    },
    {
      "cell_type": "code",
      "metadata": {
        "id": "9ZVZPTB28oh2"
      },
      "source": [
        "for layer in base_model.layers:\n",
        "  layer.trainable = False"
      ],
      "execution_count": null,
      "outputs": []
    },
    {
      "cell_type": "code",
      "metadata": {
        "id": "8LunkIs2g6rh"
      },
      "source": [
        "from tensorflow.keras.preprocessing.image import ImageDataGenerator"
      ],
      "execution_count": null,
      "outputs": []
    },
    {
      "cell_type": "code",
      "metadata": {
        "id": "Ull1609tXNb5"
      },
      "source": [
        "train_image_generator =ImageDataGenerator(\n",
        "    rescale=1./255, \n",
        "    horizontal_flip=True,\n",
        "    rotation_range = 120\n",
        "\n",
        "    )"
      ],
      "execution_count": null,
      "outputs": []
    },
    {
      "cell_type": "code",
      "metadata": {
        "id": "s2BICnRAdmBY"
      },
      "source": [
        "validation_image_generator = ImageDataGenerator(rescale=1./255)"
      ],
      "execution_count": null,
      "outputs": []
    },
    {
      "cell_type": "code",
      "metadata": {
        "id": "CmhwbhCaqpPI"
      },
      "source": [
        "batch_size = 128"
      ],
      "execution_count": null,
      "outputs": []
    },
    {
      "cell_type": "markdown",
      "metadata": {
        "id": "ZXGwHUT-9LS4"
      },
      "source": [
        ""
      ]
    },
    {
      "cell_type": "code",
      "metadata": {
        "id": "ufTaq7NZ9LC6"
      },
      "source": [
        ""
      ],
      "execution_count": null,
      "outputs": []
    },
    {
      "cell_type": "code",
      "metadata": {
        "id": "4ogDnCR0eGDT"
      },
      "source": [
        "train_dir = r\"/content/drive/MyDrive/kaggle/cars_train/classes\"\n",
        "validation_dir = r\"/content/drive/MyDrive/kaggle/cars_test/split_test_classes\""
      ],
      "execution_count": null,
      "outputs": []
    },
    {
      "cell_type": "code",
      "metadata": {
        "id": "phb5wEFpeYJ0"
      },
      "source": [
        "image_height = 150\n",
        "image_width = 150"
      ],
      "execution_count": null,
      "outputs": []
    },
    {
      "cell_type": "code",
      "metadata": {
        "colab": {
          "base_uri": "https://localhost:8080/"
        },
        "id": "lZQv0c3zdXAe",
        "outputId": "f857a5a5-47cb-459f-ddae-8b853eda3396"
      },
      "source": [
        "validation_data_gen= validation_image_generator.flow_from_directory(\n",
        "    batch_size = 64,\n",
        "    directory = validation_dir,\n",
        "    target_size = (image_height,image_width),\n",
        "    class_mode = 'categorical',\n",
        ")"
      ],
      "execution_count": null,
      "outputs": [
        {
          "name": "stdout",
          "output_type": "stream",
          "text": [
            "Found 1960 images belonging to 196 classes.\n"
          ]
        }
      ]
    },
    {
      "cell_type": "code",
      "metadata": {
        "colab": {
          "base_uri": "https://localhost:8080/"
        },
        "id": "W0oFfNbUfaol",
        "outputId": "a924a487-77af-4503-f264-2d7b35cb0165"
      },
      "source": [
        "train_data_gen = train_image_generator.flow_from_directory(\n",
        "    batch_size = batch_size,\n",
        "    directory = train_dir,\n",
        "    target_size = (image_height,image_width),\n",
        "    class_mode = 'categorical',\n",
        ")"
      ],
      "execution_count": null,
      "outputs": [
        {
          "name": "stdout",
          "output_type": "stream",
          "text": [
            "Found 8144 images belonging to 196 classes.\n"
          ]
        }
      ]
    },
    {
      "cell_type": "code",
      "metadata": {
        "id": "Hw_ssGykgJ86"
      },
      "source": [
        " sample_train_image,c = next(validation_data_gen)"
      ],
      "execution_count": null,
      "outputs": []
    },
    {
      "cell_type": "code",
      "metadata": {
        "id": "fxmHUWHvhofr"
      },
      "source": [
        "# import matplotlib.pyplot as plt"
      ],
      "execution_count": null,
      "outputs": []
    },
    {
      "cell_type": "code",
      "metadata": {
        "id": "sV1DjG_Kh3Lf"
      },
      "source": [
        "# fig,axes = plt.subplots(5,5,figsize=(20,20))\n",
        "# axes = axes.flatten()\n",
        "# for _,img in zip(axes,sample_train_image[25:56]):\n",
        "#   _.imshow(img) \n",
        "#   _.axis(\"off\")"
      ],
      "execution_count": null,
      "outputs": []
    },
    {
      "cell_type": "code",
      "metadata": {
        "id": "Lus-5vK-iBgU"
      },
      "source": [
        "mod = Flatten()(base_model.output)\n",
        "mod = Dense(512,activation='relu')(mod)\n",
        "mod = Dropout(0.5)(mod)\n",
        "mod = Dense(196,activation =  \"softmax\")(mod)\n",
        "model = tf.keras.models.Model(base_model.input,mod)"
      ],
      "execution_count": null,
      "outputs": []
    },
    {
      "cell_type": "code",
      "metadata": {
        "id": "_NFISjEBJaEw"
      },
      "source": [
        "# callback = tf.keras.callbacks.EarlyStopping(monitor='val_loss')"
      ],
      "execution_count": null,
      "outputs": []
    },
    {
      "cell_type": "code",
      "metadata": {
        "id": "y3klNScu_qwo"
      },
      "source": [
        ""
      ],
      "execution_count": null,
      "outputs": []
    },
    {
      "cell_type": "code",
      "metadata": {
        "id": "wuZ7c-1d_B9o"
      },
      "source": [
        "model.compile(\n",
        "    optimizer ='adam',\n",
        "    loss = \"categorical_crossentropy\",\n",
        "   metrics = ['accuracy'],\n",
        "\n",
        ")"
      ],
      "execution_count": null,
      "outputs": []
    },
    {
      "cell_type": "code",
      "metadata": {
        "colab": {
          "base_uri": "https://localhost:8080/"
        },
        "id": "2xyoy-LtDqqQ",
        "outputId": "572cd3d5-c970-438a-a048-4553ecd8bb42"
      },
      "source": [
        "model.summary()"
      ],
      "execution_count": null,
      "outputs": [
        {
          "name": "stdout",
          "output_type": "stream",
          "text": [
            "Model: \"model\"\n",
            "_________________________________________________________________\n",
            "Layer (type)                 Output Shape              Param #   \n",
            "=================================================================\n",
            "input_1 (InputLayer)         [(None, 150, 150, 3)]     0         \n",
            "_________________________________________________________________\n",
            "block1_conv1 (Conv2D)        (None, 150, 150, 64)      1792      \n",
            "_________________________________________________________________\n",
            "block1_conv2 (Conv2D)        (None, 150, 150, 64)      36928     \n",
            "_________________________________________________________________\n",
            "block1_pool (MaxPooling2D)   (None, 75, 75, 64)        0         \n",
            "_________________________________________________________________\n",
            "block2_conv1 (Conv2D)        (None, 75, 75, 128)       73856     \n",
            "_________________________________________________________________\n",
            "block2_conv2 (Conv2D)        (None, 75, 75, 128)       147584    \n",
            "_________________________________________________________________\n",
            "block2_pool (MaxPooling2D)   (None, 37, 37, 128)       0         \n",
            "_________________________________________________________________\n",
            "block3_conv1 (Conv2D)        (None, 37, 37, 256)       295168    \n",
            "_________________________________________________________________\n",
            "block3_conv2 (Conv2D)        (None, 37, 37, 256)       590080    \n",
            "_________________________________________________________________\n",
            "block3_conv3 (Conv2D)        (None, 37, 37, 256)       590080    \n",
            "_________________________________________________________________\n",
            "block3_pool (MaxPooling2D)   (None, 18, 18, 256)       0         \n",
            "_________________________________________________________________\n",
            "block4_conv1 (Conv2D)        (None, 18, 18, 512)       1180160   \n",
            "_________________________________________________________________\n",
            "block4_conv2 (Conv2D)        (None, 18, 18, 512)       2359808   \n",
            "_________________________________________________________________\n",
            "block4_conv3 (Conv2D)        (None, 18, 18, 512)       2359808   \n",
            "_________________________________________________________________\n",
            "block4_pool (MaxPooling2D)   (None, 9, 9, 512)         0         \n",
            "_________________________________________________________________\n",
            "block5_conv1 (Conv2D)        (None, 9, 9, 512)         2359808   \n",
            "_________________________________________________________________\n",
            "block5_conv2 (Conv2D)        (None, 9, 9, 512)         2359808   \n",
            "_________________________________________________________________\n",
            "block5_conv3 (Conv2D)        (None, 9, 9, 512)         2359808   \n",
            "_________________________________________________________________\n",
            "block5_pool (MaxPooling2D)   (None, 4, 4, 512)         0         \n",
            "_________________________________________________________________\n",
            "flatten (Flatten)            (None, 8192)              0         \n",
            "_________________________________________________________________\n",
            "dense (Dense)                (None, 512)               4194816   \n",
            "_________________________________________________________________\n",
            "dropout (Dropout)            (None, 512)               0         \n",
            "_________________________________________________________________\n",
            "dense_1 (Dense)              (None, 196)               100548    \n",
            "=================================================================\n",
            "Total params: 19,010,052\n",
            "Trainable params: 4,295,364\n",
            "Non-trainable params: 14,714,688\n",
            "_________________________________________________________________\n"
          ]
        }
      ]
    },
    {
      "cell_type": "code",
      "metadata": {
        "colab": {
          "background_save": true,
          "base_uri": "https://localhost:8080/"
        },
        "id": "HUvsvRIlD217",
        "outputId": "c78cbd90-9f6f-4ad2-eb2b-23be39792d87"
      },
      "source": [
        "model.fit_generator(\n",
        "    train_data_gen,\n",
        "    steps_per_epoch = 8144//128,\n",
        "    epochs = 50,\n",
        "    validation_data = validation_data_gen,\n",
        "    )"
      ],
      "execution_count": null,
      "outputs": [
        {
          "name": "stderr",
          "output_type": "stream",
          "text": [
            "/usr/local/lib/python3.7/dist-packages/keras/engine/training.py:1972: UserWarning: `Model.fit_generator` is deprecated and will be removed in a future version. Please use `Model.fit`, which supports generators.\n",
            "  warnings.warn('`Model.fit_generator` is deprecated and '\n"
          ]
        },
        {
          "name": "stdout",
          "output_type": "stream",
          "text": [
            "Epoch 1/50\n",
            "63/63 [==============================] - 2228s 35s/step - loss: 5.3333 - accuracy: 0.0047 - val_loss: 5.2712 - val_accuracy: 0.0077\n",
            "Epoch 2/50\n",
            "48/63 [=====================>........] - ETA: 6:52 - loss: 5.2603 - accuracy: 0.0108"
          ]
        }
      ]
    },
    {
      "cell_type": "code",
      "metadata": {
        "id": "WaBNftHFT6Qq"
      },
      "source": [
        "  d = model.history.history"
      ],
      "execution_count": null,
      "outputs": []
    },
    {
      "cell_type": "code",
      "metadata": {
        "id": "OJ9rWbHMBX7f"
      },
      "source": [
        "d.keys()"
      ],
      "execution_count": null,
      "outputs": []
    },
    {
      "cell_type": "code",
      "metadata": {
        "id": "bwa4UQ4yCvKE"
      },
      "source": [
        "import pandas as pd\n",
        "import matplotlib.pyplot as plt\n",
        "acc_df = pd.DataFrame(d)"
      ],
      "execution_count": null,
      "outputs": []
    },
    {
      "cell_type": "code",
      "metadata": {
        "id": "NhISkX3NC6I7"
      },
      "source": [
        ""
      ],
      "execution_count": null,
      "outputs": []
    },
    {
      "cell_type": "code",
      "metadata": {
        "id": "XTI1hjHQDsdp"
      },
      "source": [
        "import seaborn as sns\n",
        "sns.lineplot(x = acc_df[\"accuracy\"] ,y = acc_df[\"loss\"],)"
      ],
      "execution_count": null,
      "outputs": []
    },
    {
      "cell_type": "code",
      "metadata": {
        "id": "mHvyS_anE4l6"
      },
      "source": [
        ""
      ],
      "execution_count": null,
      "outputs": []
    }
  ]
}